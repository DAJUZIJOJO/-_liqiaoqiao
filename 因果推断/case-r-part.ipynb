{
 "cells": [
  {
   "cell_type": "code",
   "execution_count": 1,
   "metadata": {
    "code_folding": [
     0
    ]
   },
   "outputs": [
    {
     "data": {
      "text/html": [
       "<table>\n",
       "<thead><tr><th></th><th scope=col>used</th><th scope=col>(Mb)</th><th scope=col>gc trigger</th><th scope=col>(Mb)</th><th scope=col>max used</th><th scope=col>(Mb)</th></tr></thead>\n",
       "<tbody>\n",
       "\t<tr><th scope=row>Ncells</th><td> 513697</td><td>27.5   </td><td>1153892</td><td>61.7   </td><td> 627625</td><td>33.6   </td></tr>\n",
       "\t<tr><th scope=row>Vcells</th><td>1010285</td><td> 7.8   </td><td>8388608</td><td>64.0   </td><td>1759718</td><td>13.5   </td></tr>\n",
       "</tbody>\n",
       "</table>\n"
      ],
      "text/latex": [
       "\\begin{tabular}{r|llllll}\n",
       "  & used & (Mb) & gc trigger & (Mb) & max used & (Mb)\\\\\n",
       "\\hline\n",
       "\tNcells &  513697 & 27.5    & 1153892 & 61.7    &  627625 & 33.6   \\\\\n",
       "\tVcells & 1010285 &  7.8    & 8388608 & 64.0    & 1759718 & 13.5   \\\\\n",
       "\\end{tabular}\n"
      ],
      "text/markdown": [
       "\n",
       "| <!--/--> | used | (Mb) | gc trigger | (Mb) | max used | (Mb) | \n",
       "|---|---|\n",
       "| Ncells |  513697 | 27.5    | 1153892 | 61.7    |  627625 | 33.6    | \n",
       "| Vcells | 1010285 |  7.8    | 8388608 | 64.0    | 1759718 | 13.5    | \n",
       "\n",
       "\n"
      ],
      "text/plain": [
       "       used    (Mb) gc trigger (Mb) max used (Mb)\n",
       "Ncells  513697 27.5 1153892    61.7  627625  33.6\n",
       "Vcells 1010285  7.8 8388608    64.0 1759718  13.5"
      ]
     },
     "metadata": {},
     "output_type": "display_data"
    },
    {
     "data": {
      "text/html": [
       "'/home/zhangheng/causal-tree-minicourse'"
      ],
      "text/latex": [
       "'/home/zhangheng/causal-tree-minicourse'"
      ],
      "text/markdown": [
       "'/home/zhangheng/causal-tree-minicourse'"
      ],
      "text/plain": [
       "[1] \"/home/zhangheng/causal-tree-minicourse\""
      ]
     },
     "metadata": {},
     "output_type": "display_data"
    },
    {
     "name": "stderr",
     "output_type": "stream",
     "text": [
      "Loading required package: rpart\n",
      "Loading required package: rpart.plot\n",
      "Rattle: A free graphical interface for data science with R.\n",
      "Version 5.2.0 Copyright (c) 2006-2018 Togaware Pty Ltd.\n",
      "Type 'rattle()' to shake, rattle, and roll your data.\n"
     ]
    }
   ],
   "source": [
    "# Load packages\n",
    "rm(list=ls())\n",
    "gc()\n",
    "getwd()\n",
    ".libPaths('/home/zhangheng/rpackages')\n",
    "options(width=2000)\n",
    "\n",
    "# Load libraries\n",
    "# library(Rcpp)\n",
    "library(readxl)\n",
    "# library(dplyr)\n",
    "library(data.table)\n",
    "library(ggplot2)\n",
    "library(causalTree)\n",
    "library(data.table)\n",
    "library(rpart)\n",
    "library(rattle)\n",
    "# detach(treeClust)"
   ]
  },
  {
   "cell_type": "code",
   "execution_count": 2,
   "metadata": {
    "code_folding": [
     0
    ]
   },
   "outputs": [],
   "source": [
    "### Load in data\n",
    "df<-fread(\"follow_page_clean_300W.csv\")"
   ]
  },
  {
   "cell_type": "code",
   "execution_count": 3,
   "metadata": {
    "code_folding": [
     0
    ]
   },
   "outputs": [
    {
     "data": {
      "text/html": [
       "<dl class=dl-horizontal>\n",
       "\t<dt>user_id</dt>\n",
       "\t\t<dd>'integer'</dd>\n",
       "\t<dt>treatment</dt>\n",
       "\t\t<dd>'integer'</dd>\n",
       "\t<dt>app_time</dt>\n",
       "\t\t<dd>'numeric'</dd>\n",
       "\t<dt>gender</dt>\n",
       "\t\t<dd>'character'</dd>\n",
       "\t<dt>age</dt>\n",
       "\t\t<dd>'character'</dd>\n",
       "\t<dt>days</dt>\n",
       "\t\t<dd>'numeric'</dd>\n",
       "\t<dt>is_new_user</dt>\n",
       "\t\t<dd>'factor'</dd>\n",
       "\t<dt>install_douyin</dt>\n",
       "\t\t<dd>'factor'</dd>\n",
       "\t<dt>is_photo_author</dt>\n",
       "\t\t<dd>'factor'</dd>\n",
       "\t<dt>cum_fans</dt>\n",
       "\t\t<dd>'integer'</dd>\n",
       "\t<dt>cum_follow</dt>\n",
       "\t\t<dd>'integer'</dd>\n",
       "\t<dt>cum_bidir</dt>\n",
       "\t\t<dd>'integer'</dd>\n",
       "\t<dt>h_photo</dt>\n",
       "\t\t<dd>'numeric'</dd>\n",
       "\t<dt>f_photo</dt>\n",
       "\t\t<dd>'numeric'</dd>\n",
       "\t<dt>n_photo</dt>\n",
       "\t\t<dd>'numeric'</dd>\n",
       "\t<dt>p_photo</dt>\n",
       "\t\t<dd>'numeric'</dd>\n",
       "\t<dt>like_cnt</dt>\n",
       "\t\t<dd>'numeric'</dd>\n",
       "\t<dt>comment_dur</dt>\n",
       "\t\t<dd>'numeric'</dd>\n",
       "\t<dt>follow_cnt</dt>\n",
       "\t\t<dd>'numeric'</dd>\n",
       "\t<dt>d_live</dt>\n",
       "\t\t<dd>'numeric'</dd>\n",
       "\t<dt>f_live</dt>\n",
       "\t\t<dd>'numeric'</dd>\n",
       "\t<dt>n_live</dt>\n",
       "\t\t<dd>'numeric'</dd>\n",
       "\t<dt>p_live</dt>\n",
       "\t\t<dd>'numeric'</dd>\n",
       "</dl>\n"
      ],
      "text/latex": [
       "\\begin{description*}\n",
       "\\item[user\\textbackslash{}\\_id] 'integer'\n",
       "\\item[treatment] 'integer'\n",
       "\\item[app\\textbackslash{}\\_time] 'numeric'\n",
       "\\item[gender] 'character'\n",
       "\\item[age] 'character'\n",
       "\\item[days] 'numeric'\n",
       "\\item[is\\textbackslash{}\\_new\\textbackslash{}\\_user] 'factor'\n",
       "\\item[install\\textbackslash{}\\_douyin] 'factor'\n",
       "\\item[is\\textbackslash{}\\_photo\\textbackslash{}\\_author] 'factor'\n",
       "\\item[cum\\textbackslash{}\\_fans] 'integer'\n",
       "\\item[cum\\textbackslash{}\\_follow] 'integer'\n",
       "\\item[cum\\textbackslash{}\\_bidir] 'integer'\n",
       "\\item[h\\textbackslash{}\\_photo] 'numeric'\n",
       "\\item[f\\textbackslash{}\\_photo] 'numeric'\n",
       "\\item[n\\textbackslash{}\\_photo] 'numeric'\n",
       "\\item[p\\textbackslash{}\\_photo] 'numeric'\n",
       "\\item[like\\textbackslash{}\\_cnt] 'numeric'\n",
       "\\item[comment\\textbackslash{}\\_dur] 'numeric'\n",
       "\\item[follow\\textbackslash{}\\_cnt] 'numeric'\n",
       "\\item[d\\textbackslash{}\\_live] 'numeric'\n",
       "\\item[f\\textbackslash{}\\_live] 'numeric'\n",
       "\\item[n\\textbackslash{}\\_live] 'numeric'\n",
       "\\item[p\\textbackslash{}\\_live] 'numeric'\n",
       "\\end{description*}\n"
      ],
      "text/markdown": [
       "user_id\n",
       ":   'integer'treatment\n",
       ":   'integer'app_time\n",
       ":   'numeric'gender\n",
       ":   'character'age\n",
       ":   'character'days\n",
       ":   'numeric'is_new_user\n",
       ":   'factor'install_douyin\n",
       ":   'factor'is_photo_author\n",
       ":   'factor'cum_fans\n",
       ":   'integer'cum_follow\n",
       ":   'integer'cum_bidir\n",
       ":   'integer'h_photo\n",
       ":   'numeric'f_photo\n",
       ":   'numeric'n_photo\n",
       ":   'numeric'p_photo\n",
       ":   'numeric'like_cnt\n",
       ":   'numeric'comment_dur\n",
       ":   'numeric'follow_cnt\n",
       ":   'numeric'd_live\n",
       ":   'numeric'f_live\n",
       ":   'numeric'n_live\n",
       ":   'numeric'p_live\n",
       ":   'numeric'\n",
       "\n"
      ],
      "text/plain": [
       "        user_id       treatment        app_time          gender             age            days     is_new_user  install_douyin is_photo_author        cum_fans      cum_follow       cum_bidir         h_photo         f_photo         n_photo         p_photo        like_cnt     comment_dur      follow_cnt          d_live          f_live          n_live          p_live \n",
       "      \"integer\"       \"integer\"       \"numeric\"     \"character\"     \"character\"       \"numeric\"        \"factor\"        \"factor\"        \"factor\"       \"integer\"       \"integer\"       \"integer\"       \"numeric\"       \"numeric\"       \"numeric\"       \"numeric\"       \"numeric\"       \"numeric\"       \"numeric\"       \"numeric\"       \"numeric\"       \"numeric\"       \"numeric\" "
      ]
     },
     "metadata": {},
     "output_type": "display_data"
    }
   ],
   "source": [
    "# Clean data\n",
    "df <- transform(df, is_new_user = as.factor(is_new_user))\n",
    "df <- transform(df, install_douyin = as.factor(install_douyin))\n",
    "df <- transform(df, is_photo_author = as.factor(is_photo_author))\n",
    "sapply(df, class)"
   ]
  },
  {
   "cell_type": "markdown",
   "metadata": {},
   "source": [
    "# Build the tree with various method\n",
    "\n",
    "In this part, we build the tree. "
   ]
  },
  {
   "cell_type": "code",
   "execution_count": 4,
   "metadata": {
    "code_folding": [
     0
    ]
   },
   "outputs": [
    {
     "name": "stdout",
     "output_type": "stream",
     "text": [
      "[1] 3\n",
      "[1] \"fit\"\n"
     ]
    },
    {
     "name": "stderr",
     "output_type": "stream",
     "text": [
      "Warning message in if (HonestSampleSize != est_nobs) {:\n",
      "“the condition has length > 1 and only the first element will be used”Warning message in honest.causalTree(log_app_time ~ age + is_new_user + install_douyin + :\n",
      "“HonestSampleSize shoud be the number of observations in estimation sample.”"
     ]
    }
   ],
   "source": [
    "#### Produce the tree\n",
    "df$log_app_time = log(df$app_time+0.001) \n",
    "tree <- honest.causalTree(log_app_time ~ age + is_new_user +  install_douyin + is_photo_author,\n",
    "    data = df[2000000:2005000, ],\n",
    "    treatment = df[2000000:2005000, ]$treatment,\n",
    "    est_data = df[1500000:2000000, ],\n",
    "    est_treatment = df[1500000:2000000, ]$treatment,\n",
    "    HonestSampleSize = df[1500000:2000000, ]$treatment,\n",
    "    split.Rule = \"fit\", \n",
    "    split.Honest = T, \n",
    "    cv.option = \"CT\", \n",
    "    cv.Honest = T,\n",
    "    split.Bucket = F, xval = 10)"
   ]
  },
  {
   "cell_type": "code",
   "execution_count": 5,
   "metadata": {
    "code_folding": []
   },
   "outputs": [
    {
     "data": {
      "text/html": [
       "<table>\n",
       "<thead><tr><th></th><th scope=col>CP</th><th scope=col>nsplit</th><th scope=col>rel error</th><th scope=col>xerror</th><th scope=col>xstd</th></tr></thead>\n",
       "<tbody>\n",
       "\t<tr><th scope=row>1</th><td>1.713140e-04</td><td>0           </td><td>1.0000000   </td><td>1.0000000   </td><td>4.040883e-06</td></tr>\n",
       "\t<tr><th scope=row>2</th><td>3.291483e-05</td><td>1           </td><td>0.9998287   </td><td>0.9999673   </td><td>9.408948e-06</td></tr>\n",
       "\t<tr><th scope=row>3</th><td>2.499724e-05</td><td>2           </td><td>0.9997958   </td><td>0.9999628   </td><td>1.345035e-05</td></tr>\n",
       "\t<tr><th scope=row>4</th><td>1.270272e-05</td><td>3           </td><td>0.9997708   </td><td>0.9999134   </td><td>4.709123e-05</td></tr>\n",
       "\t<tr><th scope=row>5</th><td>9.553955e-06</td><td>4           </td><td>0.9997581   </td><td>0.9999395   </td><td>5.236428e-05</td></tr>\n",
       "\t<tr><th scope=row>6</th><td>8.601596e-06</td><td>5           </td><td>0.9997485   </td><td>0.9999349   </td><td>5.497538e-05</td></tr>\n",
       "</tbody>\n",
       "</table>\n"
      ],
      "text/latex": [
       "\\begin{tabular}{r|lllll}\n",
       "  & CP & nsplit & rel error & xerror & xstd\\\\\n",
       "\\hline\n",
       "\t1 & 1.713140e-04 & 0            & 1.0000000    & 1.0000000    & 4.040883e-06\\\\\n",
       "\t2 & 3.291483e-05 & 1            & 0.9998287    & 0.9999673    & 9.408948e-06\\\\\n",
       "\t3 & 2.499724e-05 & 2            & 0.9997958    & 0.9999628    & 1.345035e-05\\\\\n",
       "\t4 & 1.270272e-05 & 3            & 0.9997708    & 0.9999134    & 4.709123e-05\\\\\n",
       "\t5 & 9.553955e-06 & 4            & 0.9997581    & 0.9999395    & 5.236428e-05\\\\\n",
       "\t6 & 8.601596e-06 & 5            & 0.9997485    & 0.9999349    & 5.497538e-05\\\\\n",
       "\\end{tabular}\n"
      ],
      "text/markdown": [
       "\n",
       "| <!--/--> | CP | nsplit | rel error | xerror | xstd | \n",
       "|---|---|---|---|---|---|\n",
       "| 1 | 1.713140e-04 | 0            | 1.0000000    | 1.0000000    | 4.040883e-06 | \n",
       "| 2 | 3.291483e-05 | 1            | 0.9998287    | 0.9999673    | 9.408948e-06 | \n",
       "| 3 | 2.499724e-05 | 2            | 0.9997958    | 0.9999628    | 1.345035e-05 | \n",
       "| 4 | 1.270272e-05 | 3            | 0.9997708    | 0.9999134    | 4.709123e-05 | \n",
       "| 5 | 9.553955e-06 | 4            | 0.9997581    | 0.9999395    | 5.236428e-05 | \n",
       "| 6 | 8.601596e-06 | 5            | 0.9997485    | 0.9999349    | 5.497538e-05 | \n",
       "\n",
       "\n"
      ],
      "text/plain": [
       "  CP           nsplit rel error xerror    xstd        \n",
       "1 1.713140e-04 0      1.0000000 1.0000000 4.040883e-06\n",
       "2 3.291483e-05 1      0.9998287 0.9999673 9.408948e-06\n",
       "3 2.499724e-05 2      0.9997958 0.9999628 1.345035e-05\n",
       "4 1.270272e-05 3      0.9997708 0.9999134 4.709123e-05\n",
       "5 9.553955e-06 4      0.9997581 0.9999395 5.236428e-05\n",
       "6 8.601596e-06 5      0.9997485 0.9999349 5.497538e-05"
      ]
     },
     "metadata": {},
     "output_type": "display_data"
    },
    {
     "data": {
      "text/html": [
       "<table>\n",
       "<thead><tr><th></th><th scope=col>CP</th><th scope=col>nsplit</th><th scope=col>rel error</th><th scope=col>xerror</th><th scope=col>xstd</th></tr></thead>\n",
       "<tbody>\n",
       "\t<tr><th scope=row>1</th><td>1.713140e-04</td><td> 0          </td><td>1.0000000   </td><td>1.0000000   </td><td>4.040883e-06</td></tr>\n",
       "\t<tr><th scope=row>2</th><td>3.291483e-05</td><td> 1          </td><td>0.9998287   </td><td>0.9999673   </td><td>9.408948e-06</td></tr>\n",
       "\t<tr><th scope=row>3</th><td>2.499724e-05</td><td> 2          </td><td>0.9997958   </td><td>0.9999628   </td><td>1.345035e-05</td></tr>\n",
       "\t<tr><th scope=row>4</th><td>1.270272e-05</td><td> 3          </td><td>0.9997708   </td><td>0.9999134   </td><td>4.709123e-05</td></tr>\n",
       "\t<tr><th scope=row>5</th><td>9.553955e-06</td><td> 4          </td><td>0.9997581   </td><td>0.9999395   </td><td>5.236428e-05</td></tr>\n",
       "\t<tr><th scope=row>6</th><td>8.601596e-06</td><td> 5          </td><td>0.9997485   </td><td>0.9999349   </td><td>5.497538e-05</td></tr>\n",
       "\t<tr><th scope=row>7</th><td>7.048536e-06</td><td> 6          </td><td>0.9997399   </td><td>0.9999351   </td><td>5.515257e-05</td></tr>\n",
       "\t<tr><th scope=row>8</th><td>6.817208e-06</td><td> 7          </td><td>0.9997329   </td><td>0.9999408   </td><td>5.533524e-05</td></tr>\n",
       "\t<tr><th scope=row>9</th><td>1.386953e-06</td><td> 8          </td><td>0.9997260   </td><td>0.9998341   </td><td>1.044924e-04</td></tr>\n",
       "\t<tr><th scope=row>10</th><td>1.174205e-06</td><td> 9          </td><td>0.9997247   </td><td>0.9997481   </td><td>1.098812e-04</td></tr>\n",
       "\t<tr><th scope=row>11</th><td>7.623404e-07</td><td>11          </td><td>0.9997223   </td><td>0.9997299   </td><td>1.108242e-04</td></tr>\n",
       "\t<tr><th scope=row>12</th><td>0.000000e+00</td><td>12          </td><td>0.9997216   </td><td>0.9997078   </td><td>1.126057e-04</td></tr>\n",
       "</tbody>\n",
       "</table>\n"
      ],
      "text/latex": [
       "\\begin{tabular}{r|lllll}\n",
       "  & CP & nsplit & rel error & xerror & xstd\\\\\n",
       "\\hline\n",
       "\t1 & 1.713140e-04 &  0           & 1.0000000    & 1.0000000    & 4.040883e-06\\\\\n",
       "\t2 & 3.291483e-05 &  1           & 0.9998287    & 0.9999673    & 9.408948e-06\\\\\n",
       "\t3 & 2.499724e-05 &  2           & 0.9997958    & 0.9999628    & 1.345035e-05\\\\\n",
       "\t4 & 1.270272e-05 &  3           & 0.9997708    & 0.9999134    & 4.709123e-05\\\\\n",
       "\t5 & 9.553955e-06 &  4           & 0.9997581    & 0.9999395    & 5.236428e-05\\\\\n",
       "\t6 & 8.601596e-06 &  5           & 0.9997485    & 0.9999349    & 5.497538e-05\\\\\n",
       "\t7 & 7.048536e-06 &  6           & 0.9997399    & 0.9999351    & 5.515257e-05\\\\\n",
       "\t8 & 6.817208e-06 &  7           & 0.9997329    & 0.9999408    & 5.533524e-05\\\\\n",
       "\t9 & 1.386953e-06 &  8           & 0.9997260    & 0.9998341    & 1.044924e-04\\\\\n",
       "\t10 & 1.174205e-06 &  9           & 0.9997247    & 0.9997481    & 1.098812e-04\\\\\n",
       "\t11 & 7.623404e-07 & 11           & 0.9997223    & 0.9997299    & 1.108242e-04\\\\\n",
       "\t12 & 0.000000e+00 & 12           & 0.9997216    & 0.9997078    & 1.126057e-04\\\\\n",
       "\\end{tabular}\n"
      ],
      "text/markdown": [
       "\n",
       "| <!--/--> | CP | nsplit | rel error | xerror | xstd | \n",
       "|---|---|---|---|---|---|---|---|---|---|---|---|\n",
       "| 1 | 1.713140e-04 |  0           | 1.0000000    | 1.0000000    | 4.040883e-06 | \n",
       "| 2 | 3.291483e-05 |  1           | 0.9998287    | 0.9999673    | 9.408948e-06 | \n",
       "| 3 | 2.499724e-05 |  2           | 0.9997958    | 0.9999628    | 1.345035e-05 | \n",
       "| 4 | 1.270272e-05 |  3           | 0.9997708    | 0.9999134    | 4.709123e-05 | \n",
       "| 5 | 9.553955e-06 |  4           | 0.9997581    | 0.9999395    | 5.236428e-05 | \n",
       "| 6 | 8.601596e-06 |  5           | 0.9997485    | 0.9999349    | 5.497538e-05 | \n",
       "| 7 | 7.048536e-06 |  6           | 0.9997399    | 0.9999351    | 5.515257e-05 | \n",
       "| 8 | 6.817208e-06 |  7           | 0.9997329    | 0.9999408    | 5.533524e-05 | \n",
       "| 9 | 1.386953e-06 |  8           | 0.9997260    | 0.9998341    | 1.044924e-04 | \n",
       "| 10 | 1.174205e-06 |  9           | 0.9997247    | 0.9997481    | 1.098812e-04 | \n",
       "| 11 | 7.623404e-07 | 11           | 0.9997223    | 0.9997299    | 1.108242e-04 | \n",
       "| 12 | 0.000000e+00 | 12           | 0.9997216    | 0.9997078    | 1.126057e-04 | \n",
       "\n",
       "\n"
      ],
      "text/plain": [
       "   CP           nsplit rel error xerror    xstd        \n",
       "1  1.713140e-04  0     1.0000000 1.0000000 4.040883e-06\n",
       "2  3.291483e-05  1     0.9998287 0.9999673 9.408948e-06\n",
       "3  2.499724e-05  2     0.9997958 0.9999628 1.345035e-05\n",
       "4  1.270272e-05  3     0.9997708 0.9999134 4.709123e-05\n",
       "5  9.553955e-06  4     0.9997581 0.9999395 5.236428e-05\n",
       "6  8.601596e-06  5     0.9997485 0.9999349 5.497538e-05\n",
       "7  7.048536e-06  6     0.9997399 0.9999351 5.515257e-05\n",
       "8  6.817208e-06  7     0.9997329 0.9999408 5.533524e-05\n",
       "9  1.386953e-06  8     0.9997260 0.9998341 1.044924e-04\n",
       "10 1.174205e-06  9     0.9997247 0.9997481 1.098812e-04\n",
       "11 7.623404e-07 11     0.9997223 0.9997299 1.108242e-04\n",
       "12 0.000000e+00 12     0.9997216 0.9997078 1.126057e-04"
      ]
     },
     "metadata": {},
     "output_type": "display_data"
    }
   ],
   "source": [
    "# Print the result for cross valication\n",
    "head(tree$cptable)\n",
    "tree$cptable"
   ]
  },
  {
   "cell_type": "code",
   "execution_count": 6,
   "metadata": {
    "code_folding": []
   },
   "outputs": [
    {
     "name": "stderr",
     "output_type": "stream",
     "text": [
      "Warning message:\n",
      "“Bad 'data' field in model 'call' (expected a data.frame or a matrix).\n",
      "To silence this warning:\n",
      "    Call rpart.plot with roundint=FALSE,\n",
      "    or rebuild the rpart model with model=TRUE.”"
     ]
    },
    {
     "data": {
      "image/png": "[encoded data removed]",
      "text/plain": [
       "plot without title"
      ]
     },
     "metadata": {},
     "output_type": "display_data"
    }
   ],
   "source": [
    "# Prune the tree and plot\n",
    "opcp <- tree$cptable[, 1][10]\n",
    "optree <- prune(tree, cp = opcp)\n",
    "rpart.plot(optree)\n",
    "# which.min(tree$cptable[,4])"
   ]
  },
  {
   "cell_type": "code",
   "execution_count": 28,
   "metadata": {},
   "outputs": [],
   "source": [
    "# Get the node member ship of each of the users\n",
    "library(treeClust)\n",
    "temp = df\n",
    "temp$where = rpart.predict.leaves(optree, newdata = temp, type = \"where\")"
   ]
  },
  {
   "cell_type": "code",
   "execution_count": 29,
   "metadata": {},
   "outputs": [],
   "source": [
    "# Write the data into csv\n",
    "fwrite(temp, \"data_with_node_info.csv\")"
   ]
  }
 ],
 "metadata": {
  "kernelspec": {
   "display_name": "R",
   "language": "R",
   "name": "ir"
  },
  "language_info": {
   "codemirror_mode": "r",
   "file_extension": ".r",
   "mimetype": "text/x-r-source",
   "name": "R",
   "pygments_lexer": "r",
   "version": "3.6.0"
  }
 },
 "nbformat": 4,
 "nbformat_minor": 2
}
